{
 "cells": [
  {
   "cell_type": "code",
   "execution_count": 3,
   "id": "d50fa40c",
   "metadata": {},
   "outputs": [
    {
     "name": "stdout",
     "output_type": "stream",
     "text": [
      "Requirement already satisfied: pytube in c:\\users\\dell\\anaconda3\\lib\\site-packages (15.0.0)\n",
      "Note: you may need to restart the kernel to use updated packages.\n"
     ]
    }
   ],
   "source": [
    "pip install pytube"
   ]
  },
  {
   "cell_type": "code",
   "execution_count": 1,
   "id": "af85701b",
   "metadata": {},
   "outputs": [],
   "source": [
    "from pytube import YouTube"
   ]
  },
  {
   "cell_type": "code",
   "execution_count": 3,
   "id": "28aecb8d",
   "metadata": {},
   "outputs": [
    {
     "name": "stdout",
     "output_type": "stream",
     "text": [
      "\n",
      "Welcome To python programe for downolede YouTube videos & Auido \n",
      "*******************************************************************\n",
      "plz provide link of YouTube :-- https://www.youtube.com/watch?v=EGExS_0qQq0\n",
      "what do you want to download press \n",
      "press 1 for video\n",
      "press 2 for Audio\n",
      "Plz Enter Your choice :- 1\n",
      "Plz wait...... \n",
      "\n",
      "Press 0 for <Stream: itag=\"17\" mime_type=\"video/3gpp\" res=\"144p\" fps=\"8fps\" vcodec=\"mp4v.20.3\" acodec=\"mp4a.40.2\" progressive=\"True\" type=\"video\">\n",
      "Press 1 for <Stream: itag=\"18\" mime_type=\"video/mp4\" res=\"360p\" fps=\"30fps\" vcodec=\"avc1.42001E\" acodec=\"mp4a.40.2\" progressive=\"True\" type=\"video\">\n",
      "Press 2 for <Stream: itag=\"22\" mime_type=\"video/mp4\" res=\"720p\" fps=\"30fps\" vcodec=\"avc1.64001F\" acodec=\"mp4a.40.2\" progressive=\"True\" type=\"video\">\n",
      "Plz provide your index you want to download :-- 1\n",
      "Plz wait downloading under process...... \n",
      "\n",
      " Download Successfully\n"
     ]
    }
   ],
   "source": [
    "print(\"\\nWelcome To python program for downoload YouTube videos & Auido \")\n",
    "print(\"*******************************************************************\")\n",
    "link= input(\"plz provide link of YouTube :-- \")\n",
    "check = input(\"what do you want to download press \\npress 1 for video\\npress 2 for Audio\\nPlz Enter Your choice :- \")\n",
    "print(\"Plz wait...... \\n\")\n",
    "if check ==\"1\":\n",
    "    youtube_1 = YouTube(link)\n",
    "    videos = youtube_1.streams.filter(progressive= True)\n",
    "\n",
    "    for i,v in enumerate(videos):\n",
    "        print(f\"Press {i} for {v}\")\n",
    "    strm = int(input(\"Plz provide your index you want to download :-- \"))\n",
    "\n",
    "    print(\"Plz wait downloading under process...... \\n\")\n",
    "    videos[strm].download()\n",
    "    \n",
    "    print(\" Download Successfully\")\n",
    "\n",
    "if check == \"2\":\n",
    "    youtube_1 = YouTube(link)\n",
    "    audio = youtube_1.streams.filter(only_audio=True)\n",
    "    for i,v in enumerate(audio):\n",
    "        \n",
    "        print(f\"Press {i} for {v}\")\n",
    "    strm = int(input(\"plz tel us the the index \"))\n",
    "    print(\"Plz wait downloading under processing...... \\n\")\n",
    "    audio[strm].download()\n",
    "    print(\" Download Successfully\\n\\n\")\n",
    "\n",
    "\n"
   ]
  },
  {
   "cell_type": "code",
   "execution_count": null,
   "id": "464b35c0",
   "metadata": {},
   "outputs": [],
   "source": []
  },
  {
   "cell_type": "code",
   "execution_count": null,
   "id": "7301c373",
   "metadata": {},
   "outputs": [],
   "source": []
  },
  {
   "cell_type": "code",
   "execution_count": null,
   "id": "bb93a1b4",
   "metadata": {},
   "outputs": [],
   "source": []
  }
 ],
 "metadata": {
  "kernelspec": {
   "display_name": "Python 3 (ipykernel)",
   "language": "python",
   "name": "python3"
  },
  "language_info": {
   "codemirror_mode": {
    "name": "ipython",
    "version": 3
   },
   "file_extension": ".py",
   "mimetype": "text/x-python",
   "name": "python",
   "nbconvert_exporter": "python",
   "pygments_lexer": "ipython3",
   "version": "3.11.5"
  }
 },
 "nbformat": 4,
 "nbformat_minor": 5
}
